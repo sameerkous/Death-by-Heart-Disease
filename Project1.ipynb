{
 "cells": [
  {
   "cell_type": "code",
   "execution_count": 1,
   "id": "83bcd1c7",
   "metadata": {},
   "outputs": [],
   "source": [
    "#importing required libraries\n",
    "\n",
    "import pandas as pd\n",
    "import numpy as np\n",
    "import matplotlib.pyplot as plt\n",
    "import seaborn as sns\n",
    "from sklearn.model_selection import train_test_split\n",
    "from sklearn.linear_model import LinearRegression"
   ]
  },
  {
   "cell_type": "code",
   "execution_count": 2,
   "id": "ae1dd431",
   "metadata": {},
   "outputs": [
    {
     "data": {
      "text/html": [
       "<div>\n",
       "<style scoped>\n",
       "    .dataframe tbody tr th:only-of-type {\n",
       "        vertical-align: middle;\n",
       "    }\n",
       "\n",
       "    .dataframe tbody tr th {\n",
       "        vertical-align: top;\n",
       "    }\n",
       "\n",
       "    .dataframe thead th {\n",
       "        text-align: right;\n",
       "    }\n",
       "</style>\n",
       "<table border=\"1\" class=\"dataframe\">\n",
       "  <thead>\n",
       "    <tr style=\"text-align: right;\">\n",
       "      <th></th>\n",
       "      <th>Year</th>\n",
       "      <th>County</th>\n",
       "      <th>Geography_Type</th>\n",
       "      <th>Strata</th>\n",
       "      <th>Strata_Name</th>\n",
       "      <th>Cause</th>\n",
       "      <th>Cause_Desc</th>\n",
       "      <th>ICD_Revision</th>\n",
       "      <th>Count</th>\n",
       "      <th>Annotation_Code</th>\n",
       "      <th>Annotation_Desc</th>\n",
       "      <th>Data_Revision_Date</th>\n",
       "    </tr>\n",
       "  </thead>\n",
       "  <tbody>\n",
       "    <tr>\n",
       "      <th>0</th>\n",
       "      <td>2014</td>\n",
       "      <td>Alameda</td>\n",
       "      <td>Occurrence</td>\n",
       "      <td>Total Population</td>\n",
       "      <td>Total Population</td>\n",
       "      <td>ALL</td>\n",
       "      <td>All causes (total)</td>\n",
       "      <td>ICD-10</td>\n",
       "      <td>9357.0</td>\n",
       "      <td>NaN</td>\n",
       "      <td>NaN</td>\n",
       "      <td>12/15/2022</td>\n",
       "    </tr>\n",
       "    <tr>\n",
       "      <th>1</th>\n",
       "      <td>2014</td>\n",
       "      <td>Alameda</td>\n",
       "      <td>Occurrence</td>\n",
       "      <td>Age</td>\n",
       "      <td>Under 1 year</td>\n",
       "      <td>ALL</td>\n",
       "      <td>All causes (total)</td>\n",
       "      <td>ICD-10</td>\n",
       "      <td>105.0</td>\n",
       "      <td>NaN</td>\n",
       "      <td>NaN</td>\n",
       "      <td>12/15/2022</td>\n",
       "    </tr>\n",
       "    <tr>\n",
       "      <th>2</th>\n",
       "      <td>2014</td>\n",
       "      <td>Alameda</td>\n",
       "      <td>Occurrence</td>\n",
       "      <td>Age</td>\n",
       "      <td>1-4 years</td>\n",
       "      <td>ALL</td>\n",
       "      <td>All causes (total)</td>\n",
       "      <td>ICD-10</td>\n",
       "      <td>17.0</td>\n",
       "      <td>NaN</td>\n",
       "      <td>NaN</td>\n",
       "      <td>12/15/2022</td>\n",
       "    </tr>\n",
       "    <tr>\n",
       "      <th>3</th>\n",
       "      <td>2014</td>\n",
       "      <td>Alameda</td>\n",
       "      <td>Occurrence</td>\n",
       "      <td>Age</td>\n",
       "      <td>5-14 years</td>\n",
       "      <td>ALL</td>\n",
       "      <td>All causes (total)</td>\n",
       "      <td>ICD-10</td>\n",
       "      <td>17.0</td>\n",
       "      <td>NaN</td>\n",
       "      <td>NaN</td>\n",
       "      <td>12/15/2022</td>\n",
       "    </tr>\n",
       "    <tr>\n",
       "      <th>4</th>\n",
       "      <td>2014</td>\n",
       "      <td>Alameda</td>\n",
       "      <td>Occurrence</td>\n",
       "      <td>Age</td>\n",
       "      <td>15-24 years</td>\n",
       "      <td>ALL</td>\n",
       "      <td>All causes (total)</td>\n",
       "      <td>ICD-10</td>\n",
       "      <td>133.0</td>\n",
       "      <td>NaN</td>\n",
       "      <td>NaN</td>\n",
       "      <td>12/15/2022</td>\n",
       "    </tr>\n",
       "  </tbody>\n",
       "</table>\n",
       "</div>"
      ],
      "text/plain": [
       "   Year   County Geography_Type            Strata       Strata_Name Cause  \\\n",
       "0  2014  Alameda     Occurrence  Total Population  Total Population   ALL   \n",
       "1  2014  Alameda     Occurrence               Age      Under 1 year   ALL   \n",
       "2  2014  Alameda     Occurrence               Age         1-4 years   ALL   \n",
       "3  2014  Alameda     Occurrence               Age        5-14 years   ALL   \n",
       "4  2014  Alameda     Occurrence               Age       15-24 years   ALL   \n",
       "\n",
       "           Cause_Desc ICD_Revision   Count  Annotation_Code Annotation_Desc  \\\n",
       "0  All causes (total)       ICD-10  9357.0              NaN             NaN   \n",
       "1  All causes (total)       ICD-10   105.0              NaN             NaN   \n",
       "2  All causes (total)       ICD-10    17.0              NaN             NaN   \n",
       "3  All causes (total)       ICD-10    17.0              NaN             NaN   \n",
       "4  All causes (total)       ICD-10   133.0              NaN             NaN   \n",
       "\n",
       "  Data_Revision_Date  \n",
       "0         12/15/2022  \n",
       "1         12/15/2022  \n",
       "2         12/15/2022  \n",
       "3         12/15/2022  \n",
       "4         12/15/2022  "
      ]
     },
     "execution_count": 2,
     "metadata": {},
     "output_type": "execute_result"
    }
   ],
   "source": [
    "#Loading data for two different year range and concatinating\n",
    "df1 = pd.read_csv(\"Death_in_LA_County_2014_2021.csv\")\n",
    "df2 = pd.read_csv(\"Death_in_LA_County_1999_2013.csv\")\n",
    "df = pd.concat([df1, df2])\n",
    "df.head()"
   ]
  },
  {
   "cell_type": "code",
   "execution_count": 3,
   "id": "cd0b5f46",
   "metadata": {},
   "outputs": [
    {
     "data": {
      "text/plain": [
       "(462956, 12)"
      ]
     },
     "execution_count": 3,
     "metadata": {},
     "output_type": "execute_result"
    }
   ],
   "source": [
    "#looking into the data\n",
    "df.shape"
   ]
  },
  {
   "cell_type": "code",
   "execution_count": 4,
   "id": "d86cca6e",
   "metadata": {},
   "outputs": [
    {
     "data": {
      "text/plain": [
       "Index(['Year', 'County', 'Geography_Type', 'Strata', 'Strata_Name', 'Cause',\n",
       "       'Cause_Desc', 'ICD_Revision', 'Count', 'Annotation_Code',\n",
       "       'Annotation_Desc', 'Data_Revision_Date'],\n",
       "      dtype='object')"
      ]
     },
     "execution_count": 4,
     "metadata": {},
     "output_type": "execute_result"
    }
   ],
   "source": [
    "#looking at the features of the dataset\n",
    "df.columns"
   ]
  },
  {
   "cell_type": "code",
   "execution_count": 5,
   "id": "7e0f10db",
   "metadata": {},
   "outputs": [
    {
     "name": "stdout",
     "output_type": "stream",
     "text": [
      "<class 'pandas.core.frame.DataFrame'>\n",
      "Int64Index: 462956 entries, 0 to 292319\n",
      "Data columns (total 12 columns):\n",
      " #   Column              Non-Null Count   Dtype  \n",
      "---  ------              --------------   -----  \n",
      " 0   Year                462956 non-null  int64  \n",
      " 1   County              462956 non-null  object \n",
      " 2   Geography_Type      462956 non-null  object \n",
      " 3   Strata              462956 non-null  object \n",
      " 4   Strata_Name         462956 non-null  object \n",
      " 5   Cause               462956 non-null  object \n",
      " 6   Cause_Desc          462956 non-null  object \n",
      " 7   ICD_Revision        170636 non-null  object \n",
      " 8   Count               325560 non-null  float64\n",
      " 9   Annotation_Code     137396 non-null  float64\n",
      " 10  Annotation_Desc     137396 non-null  object \n",
      " 11  Data_Revision_Date  170636 non-null  object \n",
      "dtypes: float64(2), int64(1), object(9)\n",
      "memory usage: 45.9+ MB\n"
     ]
    }
   ],
   "source": [
    "#info on the dataset\n",
    "df.info()"
   ]
  },
  {
   "cell_type": "code",
   "execution_count": 6,
   "id": "a1a1d7ed",
   "metadata": {},
   "outputs": [
    {
     "data": {
      "text/plain": [
       "All causes (total)                                       63452\n",
       "Alzheimer's disease                                      28536\n",
       "Malignant neoplasms                                      28536\n",
       "Chronic lower respiratory diseases                       28536\n",
       "Diabetes mellitus                                        28536\n",
       "Assault (homicide)                                       28536\n",
       "Diseases of heart                                        28536\n",
       "Essential hypertension and hypertensive renal disease    28536\n",
       "Accidents (unintentional injuries)                       28536\n",
       "Chronic liver disease and cirrhosis                      28536\n",
       "Nephritis, nephrotic syndrome and nephrosis              28536\n",
       "Parkinson's disease                                      28536\n",
       "Influenza and pneumonia                                  28536\n",
       "Cerebrovascular diseases                                 28536\n",
       "Intentional self-harm (suicide)                          28536\n",
       "Name: Cause_Desc, dtype: int64"
      ]
     },
     "execution_count": 6,
     "metadata": {},
     "output_type": "execute_result"
    }
   ],
   "source": [
    "# looking at different cause of deaths for LA county\n",
    "df.Cause_Desc.value_counts()"
   ]
  },
  {
   "cell_type": "code",
   "execution_count": 7,
   "id": "33187b7e",
   "metadata": {},
   "outputs": [
    {
     "data": {
      "text/html": [
       "<div>\n",
       "<style scoped>\n",
       "    .dataframe tbody tr th:only-of-type {\n",
       "        vertical-align: middle;\n",
       "    }\n",
       "\n",
       "    .dataframe tbody tr th {\n",
       "        vertical-align: top;\n",
       "    }\n",
       "\n",
       "    .dataframe thead th {\n",
       "        text-align: right;\n",
       "    }\n",
       "</style>\n",
       "<table border=\"1\" class=\"dataframe\">\n",
       "  <thead>\n",
       "    <tr style=\"text-align: right;\">\n",
       "      <th></th>\n",
       "      <th>Year</th>\n",
       "      <th>Count</th>\n",
       "      <th>Annotation_Code</th>\n",
       "    </tr>\n",
       "  </thead>\n",
       "  <tbody>\n",
       "    <tr>\n",
       "      <th>count</th>\n",
       "      <td>23.00000</td>\n",
       "      <td>23.000000</td>\n",
       "      <td>0.0</td>\n",
       "    </tr>\n",
       "    <tr>\n",
       "      <th>mean</th>\n",
       "      <td>2010.00000</td>\n",
       "      <td>17319.782609</td>\n",
       "      <td>NaN</td>\n",
       "    </tr>\n",
       "    <tr>\n",
       "      <th>std</th>\n",
       "      <td>6.78233</td>\n",
       "      <td>1373.951864</td>\n",
       "      <td>NaN</td>\n",
       "    </tr>\n",
       "    <tr>\n",
       "      <th>min</th>\n",
       "      <td>1999.00000</td>\n",
       "      <td>15419.000000</td>\n",
       "      <td>NaN</td>\n",
       "    </tr>\n",
       "    <tr>\n",
       "      <th>25%</th>\n",
       "      <td>2004.50000</td>\n",
       "      <td>16271.500000</td>\n",
       "      <td>NaN</td>\n",
       "    </tr>\n",
       "    <tr>\n",
       "      <th>50%</th>\n",
       "      <td>2010.00000</td>\n",
       "      <td>16749.000000</td>\n",
       "      <td>NaN</td>\n",
       "    </tr>\n",
       "    <tr>\n",
       "      <th>75%</th>\n",
       "      <td>2015.50000</td>\n",
       "      <td>18154.000000</td>\n",
       "      <td>NaN</td>\n",
       "    </tr>\n",
       "    <tr>\n",
       "      <th>max</th>\n",
       "      <td>2021.00000</td>\n",
       "      <td>20006.000000</td>\n",
       "      <td>NaN</td>\n",
       "    </tr>\n",
       "  </tbody>\n",
       "</table>\n",
       "</div>"
      ],
      "text/plain": [
       "             Year         Count  Annotation_Code\n",
       "count    23.00000     23.000000              0.0\n",
       "mean   2010.00000  17319.782609              NaN\n",
       "std       6.78233   1373.951864              NaN\n",
       "min    1999.00000  15419.000000              NaN\n",
       "25%    2004.50000  16271.500000              NaN\n",
       "50%    2010.00000  16749.000000              NaN\n",
       "75%    2015.50000  18154.000000              NaN\n",
       "max    2021.00000  20006.000000              NaN"
      ]
     },
     "execution_count": 7,
     "metadata": {},
     "output_type": "execute_result"
    }
   ],
   "source": [
    "#I am focused on the Disease of heart occured for the total population of the LA county residents\n",
    "df_la = df.loc[(df['Geography_Type'] == 'Residence') & (df['Cause'] == 'HTD') & (df['County'] == 'Los Angeles') & (df['Strata'] == 'Total Population')]\n",
    "df_la.head()\n",
    "df_la.describe()\n"
   ]
  },
  {
   "cell_type": "code",
   "execution_count": 8,
   "id": "5edc6d6c",
   "metadata": {},
   "outputs": [
    {
     "data": {
      "text/html": [
       "<div>\n",
       "<style scoped>\n",
       "    .dataframe tbody tr th:only-of-type {\n",
       "        vertical-align: middle;\n",
       "    }\n",
       "\n",
       "    .dataframe tbody tr th {\n",
       "        vertical-align: top;\n",
       "    }\n",
       "\n",
       "    .dataframe thead th {\n",
       "        text-align: right;\n",
       "    }\n",
       "</style>\n",
       "<table border=\"1\" class=\"dataframe\">\n",
       "  <thead>\n",
       "    <tr style=\"text-align: right;\">\n",
       "      <th></th>\n",
       "      <th>Year</th>\n",
       "      <th>Count</th>\n",
       "    </tr>\n",
       "  </thead>\n",
       "  <tbody>\n",
       "    <tr>\n",
       "      <th>13915</th>\n",
       "      <td>2014</td>\n",
       "      <td>15419.0</td>\n",
       "    </tr>\n",
       "    <tr>\n",
       "      <th>35027</th>\n",
       "      <td>2015</td>\n",
       "      <td>16322.0</td>\n",
       "    </tr>\n",
       "    <tr>\n",
       "      <th>56139</th>\n",
       "      <td>2016</td>\n",
       "      <td>16359.0</td>\n",
       "    </tr>\n",
       "    <tr>\n",
       "      <th>77251</th>\n",
       "      <td>2017</td>\n",
       "      <td>16516.0</td>\n",
       "    </tr>\n",
       "    <tr>\n",
       "      <th>98363</th>\n",
       "      <td>2018</td>\n",
       "      <td>16749.0</td>\n",
       "    </tr>\n",
       "    <tr>\n",
       "      <th>119475</th>\n",
       "      <td>2019</td>\n",
       "      <td>16641.0</td>\n",
       "    </tr>\n",
       "    <tr>\n",
       "      <th>140587</th>\n",
       "      <td>2020</td>\n",
       "      <td>18233.0</td>\n",
       "    </tr>\n",
       "    <tr>\n",
       "      <th>162845</th>\n",
       "      <td>2021</td>\n",
       "      <td>17187.0</td>\n",
       "    </tr>\n",
       "    <tr>\n",
       "      <th>4285</th>\n",
       "      <td>1999</td>\n",
       "      <td>20006.0</td>\n",
       "    </tr>\n",
       "    <tr>\n",
       "      <th>19949</th>\n",
       "      <td>2000</td>\n",
       "      <td>19425.0</td>\n",
       "    </tr>\n",
       "    <tr>\n",
       "      <th>40365</th>\n",
       "      <td>2001</td>\n",
       "      <td>19433.0</td>\n",
       "    </tr>\n",
       "    <tr>\n",
       "      <th>60781</th>\n",
       "      <td>2002</td>\n",
       "      <td>18991.0</td>\n",
       "    </tr>\n",
       "    <tr>\n",
       "      <th>81197</th>\n",
       "      <td>2003</td>\n",
       "      <td>19263.0</td>\n",
       "    </tr>\n",
       "    <tr>\n",
       "      <th>101613</th>\n",
       "      <td>2004</td>\n",
       "      <td>18075.0</td>\n",
       "    </tr>\n",
       "    <tr>\n",
       "      <th>122029</th>\n",
       "      <td>2005</td>\n",
       "      <td>18070.0</td>\n",
       "    </tr>\n",
       "    <tr>\n",
       "      <th>142445</th>\n",
       "      <td>2006</td>\n",
       "      <td>17910.0</td>\n",
       "    </tr>\n",
       "    <tr>\n",
       "      <th>162861</th>\n",
       "      <td>2007</td>\n",
       "      <td>17219.0</td>\n",
       "    </tr>\n",
       "    <tr>\n",
       "      <th>183277</th>\n",
       "      <td>2008</td>\n",
       "      <td>16587.0</td>\n",
       "    </tr>\n",
       "    <tr>\n",
       "      <th>203693</th>\n",
       "      <td>2009</td>\n",
       "      <td>15972.0</td>\n",
       "    </tr>\n",
       "    <tr>\n",
       "      <th>224109</th>\n",
       "      <td>2010</td>\n",
       "      <td>15776.0</td>\n",
       "    </tr>\n",
       "  </tbody>\n",
       "</table>\n",
       "</div>"
      ],
      "text/plain": [
       "        Year    Count\n",
       "13915   2014  15419.0\n",
       "35027   2015  16322.0\n",
       "56139   2016  16359.0\n",
       "77251   2017  16516.0\n",
       "98363   2018  16749.0\n",
       "119475  2019  16641.0\n",
       "140587  2020  18233.0\n",
       "162845  2021  17187.0\n",
       "4285    1999  20006.0\n",
       "19949   2000  19425.0\n",
       "40365   2001  19433.0\n",
       "60781   2002  18991.0\n",
       "81197   2003  19263.0\n",
       "101613  2004  18075.0\n",
       "122029  2005  18070.0\n",
       "142445  2006  17910.0\n",
       "162861  2007  17219.0\n",
       "183277  2008  16587.0\n",
       "203693  2009  15972.0\n",
       "224109  2010  15776.0"
      ]
     },
     "execution_count": 8,
     "metadata": {},
     "output_type": "execute_result"
    }
   ],
   "source": [
    "# Looking at the dependent and independent variable\n",
    "data_la = df_la.loc[:, ['Year','Count']]\n",
    "data_la.head(20)"
   ]
  },
  {
   "cell_type": "code",
   "execution_count": 9,
   "id": "dd42ffec",
   "metadata": {},
   "outputs": [
    {
     "data": {
      "image/png": "[encoded data removed]",
      "text/plain": [
       "<Figure size 432x288 with 1 Axes>"
      ]
     },
     "metadata": {
      "needs_background": "light"
     },
     "output_type": "display_data"
    }
   ],
   "source": [
    "#Looking at the independent variable\n",
    "data_la.plot (y = 'Count', x = 'Year', style = 'o')\n",
    "plt.ylabel(\"Number of Death\")\n",
    "plt.xlabel('Year')\n",
    "plt.show()"
   ]
  },
  {
   "cell_type": "code",
   "execution_count": 22,
   "id": "5ebb0fb3",
   "metadata": {},
   "outputs": [
    {
     "data": {
      "image/png": "[encoded data removed]",
      "text/plain": [
       "<Figure size 432x288 with 1 Axes>"
      ]
     },
     "metadata": {
      "needs_background": "light"
     },
     "output_type": "display_data"
    }
   ],
   "source": [
    "boxplot = data_la.boxplot(column=['Count'])"
   ]
  },
  {
   "cell_type": "code",
   "execution_count": 10,
   "id": "3f9f0847",
   "metadata": {},
   "outputs": [
    {
     "data": {
      "image/png": "[encoded data removed]",
      "text/plain": [
       "<Figure size 432x288 with 2 Axes>"
      ]
     },
     "metadata": {
      "needs_background": "light"
     },
     "output_type": "display_data"
    },
    {
     "data": {
      "text/html": [
       "<div>\n",
       "<style scoped>\n",
       "    .dataframe tbody tr th:only-of-type {\n",
       "        vertical-align: middle;\n",
       "    }\n",
       "\n",
       "    .dataframe tbody tr th {\n",
       "        vertical-align: top;\n",
       "    }\n",
       "\n",
       "    .dataframe thead th {\n",
       "        text-align: right;\n",
       "    }\n",
       "</style>\n",
       "<table border=\"1\" class=\"dataframe\">\n",
       "  <thead>\n",
       "    <tr style=\"text-align: right;\">\n",
       "      <th></th>\n",
       "      <th>Year</th>\n",
       "      <th>Count</th>\n",
       "    </tr>\n",
       "  </thead>\n",
       "  <tbody>\n",
       "    <tr>\n",
       "      <th>Year</th>\n",
       "      <td>1.000000</td>\n",
       "      <td>-0.676433</td>\n",
       "    </tr>\n",
       "    <tr>\n",
       "      <th>Count</th>\n",
       "      <td>-0.676433</td>\n",
       "      <td>1.000000</td>\n",
       "    </tr>\n",
       "  </tbody>\n",
       "</table>\n",
       "</div>"
      ],
      "text/plain": [
       "           Year     Count\n",
       "Year   1.000000 -0.676433\n",
       "Count -0.676433  1.000000"
      ]
     },
     "execution_count": 10,
     "metadata": {},
     "output_type": "execute_result"
    }
   ],
   "source": [
    "# looking a heat map\n",
    "sns.heatmap(data_la.corr())\n",
    "plt.show()\n",
    "data_la.corr()"
   ]
  },
  {
   "cell_type": "code",
   "execution_count": 11,
   "id": "8559b5e1",
   "metadata": {},
   "outputs": [],
   "source": [
    "# Dividing the data into independent and dependent variables\n",
    "x = pd.DataFrame(data_la['Year'])\n",
    "y = pd.DataFrame(data_la['Count'])"
   ]
  },
  {
   "cell_type": "code",
   "execution_count": 12,
   "id": "4ffaa1dc",
   "metadata": {},
   "outputs": [],
   "source": [
    "# splitting the data into training and testing sets\n",
    "from sklearn.model_selection import train_test_split\n",
    "x_train, x_test, y_train, y_test = train_test_split(\n",
    "    x, y, test_size=0.03, random_state=0)"
   ]
  },
  {
   "cell_type": "code",
   "execution_count": 13,
   "id": "2c15ef02",
   "metadata": {},
   "outputs": [
    {
     "data": {
      "text/plain": [
       "LinearRegression()"
      ]
     },
     "execution_count": 13,
     "metadata": {},
     "output_type": "execute_result"
    }
   ],
   "source": [
    "# training the algorithm\n",
    "from sklearn.linear_model import LinearRegression\n",
    "model = LinearRegression()\n",
    "model.fit(x_train, y_train)"
   ]
  },
  {
   "cell_type": "code",
   "execution_count": 14,
   "id": "b13f02c6",
   "metadata": {},
   "outputs": [],
   "source": [
    "# getting the predicted value by the model\n",
    "y_pred = model.predict(x_test)"
   ]
  },
  {
   "cell_type": "code",
   "execution_count": 15,
   "id": "9e139fe4",
   "metadata": {},
   "outputs": [
    {
     "name": "stdout",
     "output_type": "stream",
     "text": [
      "Mean Absolute Error: 643.6637168141897\n",
      "Mean Squared Error: 414302.98034305737\n",
      "Root Mean Squared Error: 643.6637168141897\n"
     ]
    }
   ],
   "source": [
    "# Evaluating the algorithm\n",
    "from sklearn import metrics\n",
    "print('Mean Absolute Error:', metrics.mean_absolute_error (y_test, y_pred)) \n",
    "print('Mean Squared Error:', metrics.mean_squared_error (y_test, y_pred))\n",
    "print('Root Mean Squared Error:',np.sqrt(metrics. mean_squared_error (y_test, y_pred)))\n"
   ]
  },
  {
   "cell_type": "code",
   "execution_count": 16,
   "id": "585d9e0c",
   "metadata": {},
   "outputs": [
    {
     "name": "stdout",
     "output_type": "stream",
     "text": [
      "0.45649755803350867\n"
     ]
    }
   ],
   "source": [
    "#calculating the R-squared of regression model\n",
    "r_squared = model.score(x, y)\n",
    "\n",
    "#view R-squared value\n",
    "print(r_squared)"
   ]
  },
  {
   "cell_type": "code",
   "execution_count": null,
   "id": "173308c8",
   "metadata": {},
   "outputs": [],
   "source": []
  }
 ],
 "metadata": {
  "kernelspec": {
   "display_name": "Python 3 (ipykernel)",
   "language": "python",
   "name": "python3"
  },
  "language_info": {
   "codemirror_mode": {
    "name": "ipython",
    "version": 3
   },
   "file_extension": ".py",
   "mimetype": "text/x-python",
   "name": "python",
   "nbconvert_exporter": "python",
   "pygments_lexer": "ipython3",
   "version": "3.9.7"
  }
 },
 "nbformat": 4,
 "nbformat_minor": 5
}
